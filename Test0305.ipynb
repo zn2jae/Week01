{
  "nbformat": 4,
  "nbformat_minor": 0,
  "metadata": {
    "colab": {
      "provenance": [],
      "authorship_tag": "ABX9TyPeD3dzRUT4282MQcZnLptC",
      "include_colab_link": true
    },
    "kernelspec": {
      "name": "python3",
      "display_name": "Python 3"
    },
    "language_info": {
      "name": "python"
    }
  },
  "cells": [
    {
      "cell_type": "markdown",
      "metadata": {
        "id": "view-in-github",
        "colab_type": "text"
      },
      "source": [
        "<a href=\"https://colab.research.google.com/github/zn2jae/Week01/blob/main/Test0305.ipynb\" target=\"_parent\"><img src=\"https://colab.research.google.com/assets/colab-badge.svg\" alt=\"Open In Colab\"/></a>"
      ]
    },
    {
      "cell_type": "markdown",
      "source": [
        "# My first coding page\n",
        "---"
      ],
      "metadata": {
        "id": "ZvyZg1hFB2rY"
      }
    },
    {
      "cell_type": "code",
      "execution_count": 3,
      "metadata": {
        "colab": {
          "base_uri": "https://localhost:8080/"
        },
        "id": "dCY7anzWAvBA",
        "outputId": "fa0a0d0d-d7d6-4028-897b-9fc67941deb2"
      },
      "outputs": [
        {
          "output_type": "stream",
          "name": "stdout",
          "text": [
            "Jaejoon\n",
            "Hello, Jaejoon\n"
          ]
        }
      ],
      "source": [
        "name = input()\n",
        "print(\"Hello,\", name)\n"
      ]
    },
    {
      "cell_type": "markdown",
      "source": [],
      "metadata": {
        "id": "Aa-DxOlkBxz7"
      }
    }
  ]
}